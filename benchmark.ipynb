{
 "cells": [
  {
   "cell_type": "code",
   "execution_count": null,
   "id": "73316105",
   "metadata": {},
   "outputs": [],
   "source": [
    "# for Google Colab with T4 GPU backend\n",
    "#!pip install ncon-torch\n",
    "#!pip install scienceplots"
   ]
  },
  {
   "cell_type": "code",
   "execution_count": null,
   "id": "86ce2593",
   "metadata": {},
   "outputs": [],
   "source": [
    "import numpy as np\n",
    "import torch\n",
    "import time\n",
    "from ncon_torch import ncon\n",
    "from tqdm import tqdm\n",
    "import matplotlib.pyplot as plt\n",
    "import scienceplots"
   ]
  },
  {
   "cell_type": "code",
   "execution_count": 8,
   "id": "89b27930",
   "metadata": {},
   "outputs": [],
   "source": [
    "def benchmark(n, device, num_instances=10):\n",
    "  num_qubits = n\n",
    "  local_dim = 2\n",
    "\n",
    "  np_times = []\n",
    "  torch_times = []\n",
    "  for _ in range(num_instances): \n",
    "    np_sv = np.random.rand(local_dim**num_qubits) + 1j * np.random.rand(local_dim**num_qubits)\n",
    "    np_sv /= np.linalg.norm(np_sv)\n",
    "    np_sv = np_sv.reshape([local_dim] * num_qubits)\n",
    "    torch_sv = torch.tensor(np_sv, dtype=torch.complex64, device=device)\n",
    "\n",
    "    gate_np = np.random.rand(4, 4) + 1j * np.random.rand(4, 4)\n",
    "    gate_np /= np.linalg.norm(gate_np)\n",
    "    gate_np = gate_np.reshape(2, 2, 2, 2)  # shape: [i', j', i, j] (bra, ket)\n",
    "    gate_torch = torch.tensor(gate_np, dtype=torch.complex64, device=device)\n",
    "\n",
    "    gate_inds = [-1, -2, 1, 2]\n",
    "    state_inds = [1,2] + [-i for i in range(3, num_qubits+1)]\n",
    "\n",
    "    start_np = time.time()\n",
    "    result_np = ncon([gate_np, np_sv], [gate_inds, state_inds])\n",
    "    end_np = time.time()\n",
    "\n",
    "    start_torch = time.time()\n",
    "    result_torch = ncon([gate_torch, torch_sv], [gate_inds, state_inds])\n",
    "    torch.cuda.synchronize()\n",
    "    end_torch = time.time()\n",
    "\n",
    "    np_times.append(end_np-start_np)\n",
    "    torch_times.append(end_torch-start_torch)\n",
    "\n",
    "    assert np.allclose(result_np, result_torch.cpu().numpy()), \"Mismatch between NumPy and PyTorch results!\"\n",
    "  return np.mean(np_times), np.mean(torch_times)"
   ]
  },
  {
   "cell_type": "code",
   "execution_count": null,
   "id": "98ddf584",
   "metadata": {},
   "outputs": [],
   "source": [
    "device = torch.device(\"cuda\" if torch.cuda.is_available() else \"cpu\")\n",
    "print(device)\n",
    "\n",
    "n_range = np.arange(2,28,2)\n",
    "np_times = []\n",
    "torch_times = []\n",
    "for n in tqdm(n_range):\n",
    "    np_time, torch_time = benchmark(n, device)\n",
    "    np_times.append(np_time)\n",
    "    torch_times.append(torch_time)"
   ]
  },
  {
   "cell_type": "code",
   "execution_count": null,
   "id": "e7c6d168",
   "metadata": {},
   "outputs": [],
   "source": [
    "def set_style():\n",
    "    plt.style.use(['science', 'grid'])\n",
    "    plt.rcParams['text.usetex'] = False\n",
    "    plt.rcParams['image.cmap'] = 'cividis'\n",
    "    \n",
    "    plt.rcParams['axes.labelsize'] = 8\n",
    "    plt.rcParams['xtick.labelsize'] = 8  \n",
    "    plt.rcParams['ytick.labelsize'] = 8 \n",
    "    plt.rcParams['legend.fontsize'] = 8\n",
    "    plt.rcParams['axes.titlesize'] = 10\n",
    "    \n",
    "    plt.rcParams['lines.linewidth'] = 1.5\n",
    "    plt.rcParams['savefig.dpi'] = 300\n",
    "    plt.rcParams['figure.dpi'] = 300 \n",
    "    \n",
    "    plt.rcParams['axes.grid'] = True  \n",
    "    plt.rcParams['axes.spines.top'] = True \n",
    "    plt.rcParams['axes.spines.right'] = True\n",
    "    plt.rcParams['xtick.top'] = False  \n",
    "    plt.rcParams['ytick.right'] = False\n",
    "    plt.rcParams['axes.spines.left'] = True\n",
    "    plt.rcParams['ytick.left'] = False\n",
    "\n",
    "set_style()\n",
    "colors = plt.cm.plasma(np.linspace(0.3,0.7,2))\n",
    "fig, ax = plt.subplots(figsize=(3.2,2))\n",
    "plt.plot(n_range[1:], np_times[1:], label='NumPy', marker='o', color=colors[0])\n",
    "plt.plot(n_range[1:], torch_times[1:], label='PyTorch', marker='o', color=colors[1])\n",
    "plt.xlabel('number of qubits')\n",
    "plt.ylabel('time (s)')\n",
    "plt.legend()\n",
    "plt.yscale('log')\n",
    "plt.savefig('benchmark.png', bbox_inches='tight')"
   ]
  }
 ],
 "metadata": {
  "kernelspec": {
   "display_name": "qaravan",
   "language": "python",
   "name": "python3"
  },
  "language_info": {
   "codemirror_mode": {
    "name": "ipython",
    "version": 3
   },
   "file_extension": ".py",
   "mimetype": "text/x-python",
   "name": "python",
   "nbconvert_exporter": "python",
   "pygments_lexer": "ipython3",
   "version": "3.11.0"
  }
 },
 "nbformat": 4,
 "nbformat_minor": 5
}
